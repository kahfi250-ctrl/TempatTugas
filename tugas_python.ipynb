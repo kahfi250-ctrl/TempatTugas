{
  "cells": [
    {
      "cell_type": "markdown",
      "metadata": {
        "id": "view-in-github",
        "colab_type": "text"
      },
      "source": [
        "<a href=\"https://colab.research.google.com/github/kahfi250-ctrl/TempatTugas/blob/main/tugas_python.ipynb\" target=\"_parent\"><img src=\"https://colab.research.google.com/assets/colab-badge.svg\" alt=\"Open In Colab\"/></a>"
      ]
    },
    {
      "cell_type": "code",
      "execution_count": null,
      "metadata": {
        "id": "glXXXzasln_G"
      },
      "outputs": [],
      "source": [
        "if 5 > 2:\n",
        "    print(\"Five is greater than two!\")"
      ]
    },
    {
      "cell_type": "markdown",
      "metadata": {
        "id": "TohlNuOImNHQ"
      },
      "source": [
        "materi tentang variable"
      ]
    },
    {
      "cell_type": "code",
      "execution_count": null,
      "metadata": {
        "id": "EFysZI4MmSZ2"
      },
      "outputs": [],
      "source": [
        "#contoh variable\n",
        "\n",
        "x = 5 # x bertipe int\n",
        "y = \"John\" # x sekarang bertipe str\n",
        "print(x)\n",
        "print(y)"
      ]
    },
    {
      "cell_type": "markdown",
      "metadata": {
        "id": "Sa-g3Boup0so"
      },
      "source": [
        "variable menggunakan casting"
      ]
    },
    {
      "cell_type": "code",
      "execution_count": null,
      "metadata": {
        "colab": {
          "base_uri": "https://localhost:8080/"
        },
        "id": "6i061Xy1oJsy",
        "outputId": "7f867dd5-eb84-4ef1-f2c5-83d56978d140"
      },
      "outputs": [
        {
          "name": "stdout",
          "output_type": "stream",
          "text": [
            "7\n",
            "3\n",
            "4.0\n"
          ]
        }
      ],
      "source": [
        "x = str(7)\n",
        "y = int(3)\n",
        "z = float(4)\n",
        "print(x)\n",
        "print(y)\n",
        "print(z)"
      ]
    },
    {
      "cell_type": "code",
      "execution_count": null,
      "metadata": {
        "colab": {
          "background_save": true,
          "base_uri": "https://localhost:8080/"
        },
        "id": "pG-pqJCFqbFt",
        "outputId": "8f5a585f-c8f9-4487-c9a8-cb5dd418a631"
      },
      "outputs": [
        {
          "name": "stdout",
          "output_type": "stream",
          "text": [
            "kapi\n",
            "tegar\n"
          ]
        }
      ],
      "source": [
        "x = \"kapi\"\n",
        "# is the same as\n",
        "y = 'tegar'\n",
        "print(x)\n",
        "print(y)"
      ]
    },
    {
      "cell_type": "code",
      "execution_count": null,
      "metadata": {
        "colab": {
          "base_uri": "https://localhost:8080/"
        },
        "id": "FvWTvWliq0Gj",
        "outputId": "08810c05-430c-40d9-d919-886d3ed1d667"
      },
      "outputs": [
        {
          "name": "stdout",
          "output_type": "stream",
          "text": [
            "masukan nama teman pertama :eljar\n",
            "masukan nama teman kedua :ganjar\n",
            "berdasarkan hasil survei : eljar  dan  ganjar  adalah teman yang cocok\n"
          ]
        }
      ],
      "source": [
        "#program studi kasus kecocokan berteman\n",
        "\n",
        "a = input (\"masukan nama teman pertama :\")\n",
        "b = input (\"masukan nama teman kedua :\")\n",
        "\n",
        "print (\"berdasarkan hasil survei :\" ,a ,\" dan \" ,b ,\" adalah teman yang cocok\")"
      ]
    },
    {
      "cell_type": "code",
      "execution_count": null,
      "metadata": {
        "colab": {
          "base_uri": "https://localhost:8080/"
        },
        "id": "i5_VNUmvsBMI",
        "outputId": "08e5c703-9a84-49f1-bd2c-c4311a54e44b"
      },
      "outputs": [
        {
          "name": "stdout",
          "output_type": "stream",
          "text": [
            "masukan pasangan 1 : joko\n",
            "masukan pasangan 2 : widodo\n",
            " hasil survei antara pasangan joko dan pasangan widodo adalah pasangan yang cocok\n"
          ]
        }
      ],
      "source": [
        "#studi kasus aplikasi horoscrop\n",
        "\n",
        "a = input (\"masukan pasangan 1 : \")\n",
        "b = input (\"masukan pasangan 2 : \")\n",
        "\n",
        "print (\" hasil survei antara pasangan\", a,  \"dan pasangan\", b, \"adalah pasangan yang cocok\")"
      ]
    },
    {
      "cell_type": "code",
      "execution_count": null,
      "metadata": {
        "colab": {
          "base_uri": "https://localhost:8080/"
        },
        "id": "qfMXuRGctTgj",
        "outputId": "58030b24-b653-410f-934b-6aecebb1ce6e"
      },
      "outputs": [
        {
          "name": "stdout",
          "output_type": "stream",
          "text": [
            "masukan nama teman pertama :akmal\n",
            "masukan nama teman kedua :yanto\n",
            "akmal mendapatkan buah apel sebanyak 250.0 buah. Dan si yanto mendapatkan buah apel sebanyak 250.0\n"
          ]
        }
      ],
      "source": [
        "#studi kasus pembagian apel untuk dua orang teman di acara apple day\n",
        "a = 500\n",
        "b = input (\"masukan nama teman pertama :\")\n",
        "c = input (\"masukan nama teman kedua :\")\n",
        "d = int(a) / 2\n",
        "print (b,\"mendapatkan buah apel sebanyak\", d, \"buah. Dan si\", c,\"mendapatkan buah apel sebanyak\", d)"
      ]
    },
    {
      "cell_type": "code",
      "execution_count": null,
      "metadata": {
        "colab": {
          "base_uri": "https://localhost:8080/"
        },
        "id": "T4I70U6LUBmF",
        "outputId": "6e50043c-ec3d-4954-b498-5bd5a26565cf"
      },
      "outputs": [
        {
          "name": "stdout",
          "output_type": "stream",
          "text": [
            "Masukkan bentuk bangun datar (persegi, persegi panjang, lingkaran, segitiga, trapesium, jajar genjang, layang-layang, belah ketupat): segitiga\n",
            "Masukkan alas: 5\n",
            "Masukkan tinggi: 19\n",
            "Luas: 47.5\n",
            "Keliling: 15.0\n"
          ]
        }
      ],
      "source": [
        "#studi kasus tentang penghitungan bangun ruang\n",
        "import math\n",
        "\n",
        "def hitung_luas_persegi(sisi):\n",
        "  \"\"\"Menghitung luas persegi.\"\"\"\n",
        "  return sisi * sisi\n",
        "\n",
        "def hitung_keliling_persegi(sisi):\n",
        "  \"\"\"Menghitung keliling persegi.\"\"\"\n",
        "  return 4 * sisi\n",
        "\n",
        "def hitung_luas_persegi_panjang(panjang, lebar):\n",
        "  \"\"\"Menghitung luas persegi panjang.\"\"\"\n",
        "  return panjang * lebar\n",
        "\n",
        "def hitung_keliling_persegi_panjang(panjang, lebar):\n",
        "  \"\"\"Menghitung keliling persegi panjang.\"\"\"\n",
        "  return 2 * (panjang + lebar)\n",
        "\n",
        "def hitung_luas_lingkaran(jari_jari):\n",
        "  \"\"\"Menghitung luas lingkaran.\"\"\"\n",
        "  return math.pi * jari_jari**2\n",
        "\n",
        "def hitung_keliling_lingkaran(jari_jari):\n",
        "  \"\"\"Menghitung keliling lingkaran.\"\"\"\n",
        "  return 2 * math.pi * jari_jari\n",
        "\n",
        "# Input dari pengguna\n",
        "bentuk = input(\"Masukkan bentuk bangun datar (persegi, persegi panjang, lingkaran, segitiga, trapesium, jajar genjang, layang-layang, belah ketupat): \")\n",
        "\n",
        "if bentuk.lower() == \"persegi\":\n",
        "  sisi = float(input(\"Masukkan panjang sisi: \"))\n",
        "  luas = hitung_luas_persegi(sisi)\n",
        "  keliling = hitung_keliling_persegi(sisi)\n",
        "elif bentuk.lower() == \"persegi panjang\":\n",
        "  panjang = float(input(\"Masukkan panjang: \"))\n",
        "  lebar = float(input(\"Masukkan lebar: \"))\n",
        "  luas = hitung_luas_persegi_panjang(panjang, lebar)\n",
        "  keliling = hitung_keliling_persegi_panjang(panjang, lebar)\n",
        "elif bentuk.lower() == \"lingkaran\":\n",
        "  jari_jari = float(input(\"Masukkan jari-jari: \"))\n",
        "  luas = hitung_luas_lingkaran(jari_jari)\n",
        "  keliling = hitung_keliling_lingkaran(jari_jari)\n",
        "elif bentuk.lower() == \"segitiga\":\n",
        "  alas = float(input(\"Masukkan alas: \"))\n",
        "  tinggi = float(input(\"Masukkan tinggi: \"))\n",
        "  luas = 0.5 * alas * tinggi\n",
        "  keliling = alas * 3\n",
        "elif bentuk.lower() == \"trapesium\":\n",
        "  sisi_atas = float(input(\"Masukkan panjang sisi atas: \"))\n",
        "  sisi_bawah = float(input(\"Masukkan panjang sisi bawah: \"))\n",
        "  tinggi = float(input(\"Masukkan tinggi: \"))\n",
        "  luas = 0\n",
        "elif bentuk.lower() == \"jajar genjang\":\n",
        "  alas = float(input(\"Masukkan panjang alas: \"))\n",
        "  tinggi = float(input(\"Masukkan tinggi: \"))\n",
        "  luas = alas * tinggi\n",
        "  keliling = 2 * (alas + tinggi)\n",
        "elif bentuk.lower() == \"belah ketupat\":\n",
        "  diagonal_satu = float(input(\"Masukkan panjang diagonal satu: \"))\n",
        "  diagonal_dua = float(input(\"Masukkan panjang diagonal dua: \"))\n",
        "  luas = 0.5 * diagonal_satu * diagonal_dua\n",
        "elif bentuk.lower() == \"layang-layang\":\n",
        "  diagonal_satu = float(input(\"Masukkan panjang diagonal satu: \"))\n",
        "  diagonal_dua = float(input(\"Masukkan panjang diagonal dua: \"))\n",
        "  luas = 0.5 * diagonal_satu * diagonal_dua\n",
        "else:\n",
        "  print(\"Bentuk bangun datar tidak valid.\")\n",
        "  exit()\n",
        "\n",
        "# Menampilkan hasil\n",
        "print(\"Luas:\", luas)\n",
        "print(\"Keliling:\", keliling)"
      ]
    },
    {
      "cell_type": "code",
      "source": [
        "import math\n",
        "\n",
        "def volume_balok(panjang, lebar, tinggi):\n",
        "  \"\"\"Menghitung volume balok.\"\"\"\n",
        "  return panjang * lebar * tinggi\n",
        "\n",
        "def luas_permukaan_balok(panjang, lebar, tinggi):\n",
        "  \"\"\"Menghitung luas permukaan balok.\"\"\"\n",
        "  return 2 * (panjang * lebar + panjang * tinggi + lebar * tinggi)\n",
        "\n",
        "def volume_tabung(jari_jari, tinggi):\n",
        "  \"\"\"Menghitung volume tabung.\"\"\"\n",
        "  return math.pi * jari_jari**2 * tinggi\n",
        "\n",
        "def luas_permukaan_tabung(jari_jari, tinggi):\n",
        "  \"\"\"Menghitung luas permukaan tabung.\"\"\"\n",
        "  return 2 * math.pi * jari_jari * (jari_jari + tinggi)\n",
        "\n",
        "# Contoh penggunaan\n",
        "print(\"Volume Balok:\", volume_balok(5, 4, 3))\n",
        "print(\"Luas Permukaan Balok:\", luas_permukaan_balok(5, 4, 3))\n",
        "print(\"Volume Tabung:\", volume_tabung(7, 10))\n",
        "print(\"Luas Permukaan Tabung:\", luas_permukaan_tabung(7, 10))"
      ],
      "metadata": {
        "id": "ECRDK3Sh637a"
      },
      "execution_count": null,
      "outputs": []
    }
  ],
  "metadata": {
    "colab": {
      "provenance": [],
      "authorship_tag": "ABX9TyOJwmtnAVXo70W6GfVtqz/T",
      "include_colab_link": true
    },
    "kernelspec": {
      "display_name": "Python 3",
      "name": "python3"
    },
    "language_info": {
      "name": "python"
    }
  },
  "nbformat": 4,
  "nbformat_minor": 0
}