{
  "nbformat": 4,
  "nbformat_minor": 0,
  "metadata": {
    "colab": {
      "provenance": [],
      "authorship_tag": "ABX9TyP/UT3f+ecqNEGsuNRUlZc1"
    },
    "kernelspec": {
      "name": "python3",
      "display_name": "Python 3"
    },
    "language_info": {
      "name": "python"
    }
  },
  "cells": [
    {
      "cell_type": "markdown",
      "source": [
        "# Pengulangan\n",
        "Pengulangan ( while & for )\n",
        "\n",
        "Dalam Python, *pengulangan adalah cara untuk\n",
        "menjalankan blok kode berulang kali. Ini berguna ketika Anda perlu melakukan tugas yang sama beberapa kali, daripada menulis kode yang sama berulang-ulang*. Python menyediakan dua jenis utama pengulangan: **while dan for**.\n",
        "1. **while**\\\n",
        "  while adalah *struktur kontrol yang memungkinkan Anda untuk menjalankan blok kode berulang kali selama kondisi tertentu bernilai True*.\\\n",
        "  Contoh :\n",
        "\n"
      ],
      "metadata": {
        "id": "LOP8nwyBRXFf"
      }
    },
    {
      "cell_type": "code",
      "source": [
        "a = 1\n",
        "while a <= 10:\n",
        "  print(a)\n",
        "  a += 1"
      ],
      "metadata": {
        "colab": {
          "base_uri": "https://localhost:8080/"
        },
        "id": "-nCGpZ00eUxf",
        "outputId": "b3eeaed3-f5a7-41ab-c72f-4d84e3309667"
      },
      "execution_count": 6,
      "outputs": [
        {
          "output_type": "stream",
          "name": "stdout",
          "text": [
            "1\n",
            "2\n",
            "3\n",
            "4\n",
            "5\n",
            "6\n",
            "7\n",
            "8\n",
            "9\n",
            "10\n"
          ]
        }
      ]
    },
    {
      "cell_type": "markdown",
      "source": [
        "2. **for**\\\n",
        "for digunakan *untuk mengulangi elemen-elemen dalam suatu urutan ( seperti list, tuple, string, atau range )*.\\\n",
        "Contoh :\n"
      ],
      "metadata": {
        "id": "zEpjuhoNeevX"
      }
    },
    {
      "cell_type": "code",
      "source": [
        "a = [1, 6, 3, 9, 5]\n",
        "for i in a:\n",
        "  print(i)"
      ],
      "metadata": {
        "colab": {
          "base_uri": "https://localhost:8080/"
        },
        "id": "PIde3oLrewKK",
        "outputId": "2f4b59d0-7a20-409c-aeb1-aa0c09a74889"
      },
      "execution_count": 7,
      "outputs": [
        {
          "output_type": "stream",
          "name": "stdout",
          "text": [
            "1\n",
            "6\n",
            "3\n",
            "9\n",
            "5\n"
          ]
        }
      ]
    }
  ]
}