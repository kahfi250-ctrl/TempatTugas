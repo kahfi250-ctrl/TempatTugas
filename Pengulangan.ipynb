{
  "nbformat": 4,
  "nbformat_minor": 0,
  "metadata": {
    "colab": {
      "provenance": [],
      "authorship_tag": "ABX9TyNLTnkWLFM6WsizRbrxplap"
    },
    "kernelspec": {
      "name": "python3",
      "display_name": "Python 3"
    },
    "language_info": {
      "name": "python"
    }
  },
  "cells": [
    {
      "cell_type": "markdown",
      "source": [
        "# Pengulangan\n",
        "Pengulangan ( while & for )\n",
        "\n",
        "Dalam Python, *pengulangan adalah cara untuk\n",
        "menjalankan blok kode berulang kali. Ini berguna ketika Anda perlu melakukan tugas yang sama beberapa kali, daripada menulis kode yang sama berulang-ulang*. Python menyediakan dua jenis utama pengulangan: **while dan for**.\n",
        "1. **while**\\\n",
        "  while adalah *struktur kontrol yang memungkinkan Anda untuk menjalankan blok kode berulang kali selama kondisi tertentu bernilai True*.\\\n",
        "  Contoh :\n",
        "\n",
        "\n",
        "```\n",
        "a = 1\n",
        "while a <= 10:\n",
        "  print(a)\n",
        "  a += 1\n",
        "```\n",
        "Maka hasilnya adalah :\\\n",
        "1\\\n",
        "2\\\n",
        "3\\\n",
        "4\\\n",
        "5\\\n",
        "6\\\n",
        "7\\\n",
        "8\\\n",
        "9\\\n",
        "10\n",
        "\n",
        "2. **for**\\\n",
        "for digunakan *untuk mengulangi elemen-elemen dalam suatu urutan ( seperti list, tuple, string, atau range )*.\\\n",
        "Contoh :\n",
        "\n",
        "\n",
        "```\n",
        "a = [1, 6, 3, 9, 5]\n",
        "for i in a:\n",
        "  print(i)\n",
        "\n",
        "```\n",
        "Maka hasilnya :\\\n",
        "1\\\n",
        "6\\\n",
        "3\\\n",
        "9\\\n",
        "5\n",
        "\n",
        "\n"
      ],
      "metadata": {
        "id": "LOP8nwyBRXFf"
      }
    }
  ]
}