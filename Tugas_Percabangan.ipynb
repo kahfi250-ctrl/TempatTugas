{
  "nbformat": 4,
  "nbformat_minor": 0,
  "metadata": {
    "colab": {
      "provenance": [],
      "authorship_tag": "ABX9TyOwfnT0YT6XMK1rNm54ISmL",
      "include_colab_link": true
    },
    "kernelspec": {
      "name": "python3",
      "display_name": "Python 3"
    },
    "language_info": {
      "name": "python"
    }
  },
  "cells": [
    {
      "cell_type": "markdown",
      "metadata": {
        "id": "view-in-github",
        "colab_type": "text"
      },
      "source": [
        "<a href=\"https://colab.research.google.com/github/kahfi250-ctrl/TempatTugas/blob/main/Tugas_Percabangan.ipynb\" target=\"_parent\"><img src=\"https://colab.research.google.com/assets/colab-badge.svg\" alt=\"Open In Colab\"/></a>"
      ]
    },
    {
      "cell_type": "markdown",
      "source": [
        "# Tugas 1\n",
        "**A. Penentuan Diskon Berdasarkan Jumlah Pembelian**\\\n",
        "Sebuah toko memberikan diskon kepada pelanggan berdasarkan jumlah pembelian mereka. Aturan diskon adalah sebagai berikut:\\\n",
        "- Pembelian di bawah Rp100.000 tidak mendapat diskon.\n",
        "- Pembelian antara Rp100.000 - Rp500.000 mendapat diskon 10%.\n",
        "- Pembelian di atas Rp500.000 mendapat diskon 20%."
      ],
      "metadata": {
        "id": "0GWlXw2bgo-U"
      }
    },
    {
      "cell_type": "code",
      "execution_count": 4,
      "metadata": {
        "colab": {
          "base_uri": "https://localhost:8080/"
        },
        "id": "fXq2TEFYgOzN",
        "outputId": "83899e5e-f3d8-4c34-9a9b-4b2181b1d0b6"
      },
      "outputs": [
        {
          "output_type": "stream",
          "name": "stdout",
          "text": [
            "Masukkan jumlah pembelian: 250000\n",
            "mendapatkan diskon 10%\n"
          ]
        }
      ],
      "source": [
        "# tugas 1\n",
        "a = int(input(\"Masukkan jumlah pembelian: \"))\n",
        "if a < 100000:\n",
        "  print(\"tidak medapatkan diskon\")\n",
        "elif a <=500000:\n",
        "  print(\"mendapatkan diskon 10%\")\n",
        "else:\n",
        "  print(\"mendapatkan diskon 20%\")"
      ]
    },
    {
      "cell_type": "markdown",
      "source": [
        "# Klasifikasi Umur\n",
        "**B.Klasifikasi Umur**\\\n",
        "Anda diminta membuat program untuk mengelompokkan seseorang berdasarkan umur. Aturannya:\\\n",
        "- Umur 0-12 tahun: Anak-anak\n",
        "- Umur 13-17 tahun: Remaja\n",
        "- Umur 18-64 tahun: Dewasa\n",
        "- Umur 65 tahun ke atas: Lansia\n"
      ],
      "metadata": {
        "id": "UmS_uZFVirPA"
      }
    },
    {
      "cell_type": "code",
      "source": [
        "# tugas 2\n",
        "a = int(input(\"Masukkan umur: \"))\n",
        "if a <= 12:\n",
        "  print(\"anak-anak\")\n",
        "elif a <=17:\n",
        "  print(\"remaja\")\n",
        "elif a <=64:\n",
        "  print(\"dewasa\")\n",
        "else:\n",
        "  print(\"lansia\")"
      ],
      "metadata": {
        "colab": {
          "base_uri": "https://localhost:8080/"
        },
        "id": "MASEdUm-jATs",
        "outputId": "b8d868ae-a7a2-49bf-fe9b-76d638f41d4b"
      },
      "execution_count": 6,
      "outputs": [
        {
          "output_type": "stream",
          "name": "stdout",
          "text": [
            "Masukkan umur: 16\n",
            "remaja\n"
          ]
        }
      ]
    },
    {
      "cell_type": "markdown",
      "source": [
        "# Tugas 3\n",
        "**C.Penilaian Nilai Siswa**\\\n",
        "Sebuah sekolah memiliki standar penilaian sebagai berikut:\\\n",
        "- Nilai 90-100: Sangat Baik\n",
        "- Nilai 70-89: Baik\n",
        "- Nilai 50-69: Cukup\n",
        "- Nilai di bawah 50: Kurang"
      ],
      "metadata": {
        "id": "ZwYyQVuljiHx"
      }
    },
    {
      "cell_type": "code",
      "source": [
        "# tugas 3\n",
        "a = int(input(\"Masukkan nilai siswa: \"))\n",
        "if a == 100:\n",
        "  print(\"sangat baik\")\n",
        "elif a <90:\n",
        "  print(\"baik\")\n",
        "elif a <70:\n",
        "  print(\"cukup\")\n",
        "else:\n",
        "  print(\"kurang\")"
      ],
      "metadata": {
        "colab": {
          "base_uri": "https://localhost:8080/"
        },
        "id": "FV24uL08kS8x",
        "outputId": "8f91f390-5ec6-4329-aa78-a4f72003b0c4"
      },
      "execution_count": 12,
      "outputs": [
        {
          "output_type": "stream",
          "name": "stdout",
          "text": [
            "Masukkan nilai siswa: 75\n",
            "baik\n"
          ]
        }
      ]
    },
    {
      "cell_type": "markdown",
      "source": [
        "# tugas 4\n",
        "**D.Pengecekan Tahun Kabisat**\\\n",
        "Anda diminta membuat program untuk menentukan apakah suatu tahun merupakan tahun kabisat. Aturannya:\\\n",
        "Tahun habis dibagi 4 adalah kabisat, kecuali tahun yang habis dibagi 100 tetapi tidak habis dibagi 400."
      ],
      "metadata": {
        "id": "mA1z4K1Gkm_E"
      }
    },
    {
      "cell_type": "code",
      "source": [
        "# tugas 4\n",
        "a = int(input(\"Masukkan tahun: \"))\n",
        "if a % 4 == 0:\n",
        "  if a % 100 == 0:\n",
        "    if a % 400 == 0:\n",
        "      print(\"tahun kabisat\")\n",
        "    else:\n",
        "      print(\"bukan tahun kabisat\")"
      ],
      "metadata": {
        "colab": {
          "base_uri": "https://localhost:8080/"
        },
        "id": "rEumwcOXk6r9",
        "outputId": "114cc772-7e4e-4d89-a436-b6c4d4a797c1"
      },
      "execution_count": 10,
      "outputs": [
        {
          "output_type": "stream",
          "name": "stdout",
          "text": [
            "Masukkan tahun: 2000\n",
            "tahun kabisat\n"
          ]
        }
      ]
    },
    {
      "cell_type": "markdown",
      "source": [
        "# tugas 5\n",
        "**E.Kalkulator Sederhana**\\\n",
        "Buat kalkulator sederhana yang dapat melakukan operasi tambah, kurang, kali, dan bagi. Program akan meminta pengguna memasukkan dua angka dan memilih operasi.\n"
      ],
      "metadata": {
        "id": "QLn17zIGmRoX"
      }
    },
    {
      "cell_type": "code",
      "source": [
        "# tugas 5\n",
        "a = int(input(\"Masukkan angka pertama: \"))\n",
        "b = int(input(\"Masukkan angka kedua: \"))\n",
        "c = input(\"Masukkan operasi: \")\n",
        "if c == \"+\":\n",
        "  print(a+b)\n",
        "elif c == \"-\":\n",
        "  print(a-b)\n",
        "elif c == \"*\":\n",
        "  print(a*b)\n",
        "elif c == \"/\":\n",
        "  print(a/b)\n",
        "else:\n",
        "  print(\"operasi tidak valid\")"
      ],
      "metadata": {
        "colab": {
          "base_uri": "https://localhost:8080/"
        },
        "id": "6vWzTKU-m81N",
        "outputId": "244dc98d-c285-4fef-df96-6f05ba85dadd"
      },
      "execution_count": 14,
      "outputs": [
        {
          "output_type": "stream",
          "name": "stdout",
          "text": [
            "Masukkan angka pertama: 5\n",
            "Masukkan angka kedua: 5\n",
            "Masukkan operasi: *\n",
            "25\n"
          ]
        }
      ]
    }
  ]
}