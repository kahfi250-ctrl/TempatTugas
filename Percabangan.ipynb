{
  "nbformat": 4,
  "nbformat_minor": 0,
  "metadata": {
    "colab": {
      "provenance": [],
      "authorship_tag": "ABX9TyPAyhB9M5+UNRbG/LK5/12V"
    },
    "kernelspec": {
      "name": "python3",
      "display_name": "Python 3"
    },
    "language_info": {
      "name": "python"
    }
  },
  "cells": [
    {
      "cell_type": "markdown",
      "source": [
        "# Penjelasan Tentang Percabangan"
      ],
      "metadata": {
        "id": "75cSSk_qRMm2"
      }
    },
    {
      "cell_type": "markdown",
      "source": [
        "1. kondisi\\\n",
        "Kondisi dievaluasi menjadi nilai benar ( True ) atau salah ( False ). Menggunakan operator perbandingan seperti:\\\n",
        "( > ) = lebih besar\\\n",
        "( < ) = lebih kecil\\\n",
        "( >= ) = lebih besar sama dengan\\\n",
        "( <= ) = lebih kecil sama dengan\\\n",
        "( != ) = tidak sama dengan\\\n",
        "( == ) = sama dengan sama\n",
        "\n"
      ],
      "metadata": {
        "id": "hPIhKQqWSClT"
      }
    },
    {
      "cell_type": "markdown",
      "source": [
        "# Contoh Kondisi"
      ],
      "metadata": {
        "id": "rwOgKkFPXHa9"
      }
    },
    {
      "cell_type": "code",
      "source": [
        "# Kondisi 1: Hanya if\n",
        "nilai = 95\n",
        "if nilai >= 90:\n",
        "    print(\"Nilai Anda A\")\n",
        "\n",
        "# Kondisi 2: if dan else\n",
        "nilai = 85\n",
        "if nilai >= 90:\n",
        "    print(\"Nilai Anda A\")\n",
        "else:\n",
        "    print(\"Nilai Anda bukan A\")\n",
        "\n",
        "# Kondisi 3: if, elif, else\n",
        "nilai = 75\n",
        "if nilai >= 90:\n",
        "    print(\"Nilai Anda A\")\n",
        "elif nilai >= 80:\n",
        "    print(\"Nilai Anda B\")\n",
        "else:\n",
        "    print(\"Nilai Anda C atau D\")\n",
        "\n",
        "# Kondisi 4: if, elif, elif, else\n",
        "nilai = 65\n",
        "if nilai >= 90:\n",
        "    print(\"Nilai Anda A\")\n",
        "elif nilai >= 80:\n",
        "    print(\"Nilai Anda B\")\n",
        "elif nilai >= 70:\n",
        "    print(\"Nilai Anda C\")\n",
        "else:\n",
        "    print(\"Nilai Anda D\")\n",
        "\n",
        "# Kondisi 5: if, elif, elif, elif, else\n",
        "nilai = 55\n",
        "if nilai >= 90:\n",
        "    print(\"Nilai Anda A\")\n",
        "elif nilai >= 80:\n",
        "    print(\"Nilai Anda B\")\n",
        "elif nilai >= 70:\n",
        "    print(\"Nilai Anda C\")\n",
        "elif nilai >= 60:\n",
        "    print(\"Nilai Anda D\")\n",
        "else:\n",
        "    print(\"Nilai Anda E\")\n",
        "\n",
        "# Kondisi 6: if, elif, elif, elif, elif, else\n",
        "nilai = 45\n",
        "if nilai >= 90:\n",
        "    print(\"Nilai Anda A\")\n",
        "elif nilai >= 80:\n",
        "    print(\"Nilai Anda B\")\n",
        "elif nilai >= 70:\n",
        "    print(\"Nilai Anda C\")\n",
        "elif nilai >= 60:\n",
        "    print(\"Nilai Anda D\")\n",
        "elif nilai >= 50:\n",
        "    print(\"Nilai Anda E\")\n",
        "else:\n",
        "    print(\"Nilai Anda F\")\n",
        "\n",
        "# Kondisi 7: if, elif, elif, elif, elif, elif, else\n",
        "nilai = 35\n",
        "if nilai >= 90:\n",
        "    print(\"Nilai Anda A\")\n",
        "elif nilai >= 80:\n",
        "    print(\"Nilai Anda B\")\n",
        "elif nilai >= 70:\n",
        "    print(\"Nilai Anda C\")\n",
        "elif nilai >= 60:\n",
        "    print(\"Nilai Anda D\")\n",
        "elif nilai >= 50:\n",
        "    print(\"Nilai Anda E\")\n",
        "elif nilai >= 40:\n",
        "    print(\"Nilai Anda F\")\n",
        "else:\n",
        "    print(\"Nilai Anda G\")"
      ],
      "metadata": {
        "id": "f-9KXXyvVJk-"
      },
      "execution_count": null,
      "outputs": []
    },
    {
      "cell_type": "markdown",
      "source": [
        "Hasil:\\\n",
        "Kondisi 1: Nilai Anda A\\\n",
        "Kondisi 2: Nilai Anda bukan A\\\n",
        "Kondisi 3: Nilai Anda C atau D\\\n",
        "Kondisi 4: Nilai Anda D\\\n",
        "Kondisi 5: Nilai Anda E\\\n",
        "Kondisi 6: Nilai Anda F\\\n",
        "Kondisi 7: Nilai Anda G"
      ],
      "metadata": {
        "id": "m8YCNfq7YhJD"
      }
    },
    {
      "cell_type": "markdown",
      "source": [
        "2. Penggunaan if, elif, else\\\n",
        "- if : Berarti \"jika\". Ini adalah pernyataan dasar dalam percabangan. Blok kode di bawah if hanya akan dieksekusi jika kondisi yang diberikan bernilai True ( benar ).\n",
        "- elif : Singkatan dari \"else if\" yang berarti \"jika yang lain\". Digunakan setelah if untuk memeriksa kondisi tambahan jika kondisi if pertama bernilai False ( salah ). Anda dapat memiliki banyak pernyataan elif dalam satu blok percabangan.\n",
        "- else : Berarti \"jika tidak\". Blok kode di bawah else akan dieksekusi hanya jika semua kondisi if dan elif sebelumnya bernilai False (salah). else adalah opsional dan hanya ada satu else dalam satu blok percabangan.\n",
        "\n",
        "Pada intinya:\n",
        "- if untuk memeriksa kondisi pertama\n",
        "- elif untuk memeriksa kondisi tambahan jika kondisi sebelumnya salah\n",
        "- else untuk menjalankan kode jika semua kondisi sebelumnya salah"
      ],
      "metadata": {
        "id": "USiZuA_HYMDi"
      }
    },
    {
      "cell_type": "markdown",
      "source": [
        "# Contoh penggunaan if, elif, else"
      ],
      "metadata": {
        "id": "GWy4F6lQXNEN"
      }
    },
    {
      "cell_type": "code",
      "execution_count": 7,
      "metadata": {
        "colab": {
          "base_uri": "https://localhost:8080/",
          "height": 106
        },
        "id": "ROyivKJSRLBl",
        "outputId": "2e928e64-4340-4f0e-88e9-b16a32943874"
      },
      "outputs": [
        {
          "output_type": "error",
          "ename": "SyntaxError",
          "evalue": "invalid syntax (<ipython-input-7-1649ed24d902>, line 11)",
          "traceback": [
            "\u001b[0;36m  File \u001b[0;32m\"<ipython-input-7-1649ed24d902>\"\u001b[0;36m, line \u001b[0;32m11\u001b[0m\n\u001b[0;31m    elif a == b:\u001b[0m\n\u001b[0m    ^\u001b[0m\n\u001b[0;31mSyntaxError\u001b[0m\u001b[0;31m:\u001b[0m invalid syntax\n"
          ]
        }
      ],
      "source": [
        "# 2. if, elif,\n",
        "# contoh if\n",
        "a = 33\n",
        "b = 200\n",
        "if b > a:\n",
        "  print(\"b lebih besar dari a\")\n",
        "\n",
        "# contoh elif\n",
        "a = 33\n",
        "b = 20\n",
        "if b > a:\n",
        "  print(\"b lebih besar dari a\")\n",
        "elif a == b:\n",
        "  print(\"a dan b sama besar\")\n",
        "\n",
        "# contoh else\n",
        "a = 200\n",
        "b = 33\n",
        "if b > a:\n",
        "  print(\"b lebih besar dari a\")\n",
        "elif a == b:\n",
        "  print(\"a dan b sama besar\")\n",
        "else:\n",
        "  print(\"a lebih besar dari b\")"
      ]
    },
    {
      "cell_type": "markdown",
      "source": [
        "hasil:\\\n",
        "contoh if: b lebih besar dari a\\\n",
        "contoh elif: Tidak ada jawaban karena kedua kondisi dalam pernyataan if dan elif bernilai False ( salah ), dan tidak ada pernyataan else untuk menangani kasus ketika semua kondisi sebelumnya salah.\\\n",
        "contoh else: a lebih besar dari b"
      ],
      "metadata": {
        "id": "n7KoQ0nGZW_o"
      }
    }
  ]
}